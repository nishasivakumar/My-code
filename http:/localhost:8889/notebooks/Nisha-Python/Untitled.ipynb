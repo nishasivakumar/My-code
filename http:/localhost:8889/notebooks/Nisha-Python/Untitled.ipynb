{
 "cells": [
  {
   "cell_type": "code",
   "execution_count": 1,
   "id": "20ffda29",
   "metadata": {},
   "outputs": [
    {
     "name": "stdout",
     "output_type": "stream",
     "text": [
      "3\n"
     ]
    }
   ],
   "source": [
    "a=1\n",
    "b=2\n",
    "c=a+b\n",
    "print(c)"
   ]
  },
  {
   "cell_type": "code",
   "execution_count": null,
   "id": "5ef90dfa",
   "metadata": {},
   "outputs": [],
   "source": [
    "from tkinter import *\n",
    "from functools import partial\n",
    "\n",
    "def validateLogin(username, password):\n",
    "\tprint(\"username entered :\", username.get())\n",
    "\tprint(\"password entered :\", password.get())\n",
    "\treturn\n",
    "\n",
    "#window\n",
    "tkWindow = Tk()  \n",
    "tkWindow.geometry('400x150')  \n",
    "tkWindow.title('Tkinter Login Form - pythonexamples.org')\n",
    "\n",
    "#username label and text entry box\n",
    "usernameLabel = Label(tkWindow, text=\"User Name\").grid(row=0, column=0)\n",
    "username = StringVar()\n",
    "usernameEntry = Entry(tkWindow, textvariable=username).grid(row=0, column=1)  \n",
    "\n",
    "#password label and password entry box\n",
    "passwordLabel = Label(tkWindow,text=\"Password\").grid(row=1, column=0)  \n",
    "password = StringVar()\n",
    "passwordEntry = Entry(tkWindow, textvariable=password, show='*').grid(row=1, column=1)  \n",
    "\n",
    "validateLogin = partial(validateLogin, username, password)\n",
    "\n",
    "#login button\n",
    "loginButton = Button(tkWindow, text=\"Login\", command=validateLogin).grid(row=4, column=0)  \n",
    "\n",
    "tkWindow.mainloop()"
   ]
  },
  {
   "cell_type": "code",
   "execution_count": null,
   "id": "f621bbed",
   "metadata": {},
   "outputs": [],
   "source": [
    "\n"
   ]
  },
  {
   "cell_type": "code",
   "execution_count": null,
   "id": "3af895e1",
   "metadata": {},
   "outputs": [],
   "source": []
  }
 ],
 "metadata": {
  "kernelspec": {
   "display_name": "Python 3 (ipykernel)",
   "language": "python",
   "name": "python3"
  },
  "language_info": {
   "codemirror_mode": {
    "name": "ipython",
    "version": 3
   },
   "file_extension": ".py",
   "mimetype": "text/x-python",
   "name": "python",
   "nbconvert_exporter": "python",
   "pygments_lexer": "ipython3",
   "version": "3.9.5"
  }
 },
 "nbformat": 4,
 "nbformat_minor": 5
}
